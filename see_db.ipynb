{
 "cells": [
  {
   "cell_type": "code",
   "execution_count": 2,
   "metadata": {},
   "outputs": [],
   "source": [
    "import sqlite3\n",
    "import pandas as pd\n"
   ]
  },
  {
   "cell_type": "code",
   "execution_count": 3,
   "metadata": {},
   "outputs": [
    {
     "name": "stdout",
     "output_type": "stream",
     "text": [
      "                                     id        date   amount  \\\n",
      "0  37c6ff29-3c87-4b6c-b5b4-e24927866df7  2025-03-22  1000.00   \n",
      "1  a136b527-18af-4b6c-a50c-97a20f3b58d3  2025-03-22   272.12   \n",
      "2  01754243-a363-4dff-bf5e-ddf14bd28ca9  2025-03-22     5.99   \n",
      "3  1dde8d43-a372-4db5-a2af-78be6e08d7eb  2025-03-22     5.99   \n",
      "4  a93b6753-31ee-45e0-a0df-6bd40dc7badf  2025-03-22     5.99   \n",
      "5  77633893-ff19-438d-93c0-107ab867984b  2025-03-22    15.25   \n",
      "\n",
      "                  description transaction_type  \\\n",
      "0  Account balance adjustment       adjustment   \n",
      "1   Transfer between accounts         transfer   \n",
      "2                  Bolt 30min         spending   \n",
      "3                   Bolt ride         spending   \n",
      "4                   Bolt ride         spending   \n",
      "5                 Migros food         spending   \n",
      "\n",
      "                        from_account_id                         to_account_id  \\\n",
      "0  fe5c4ece-5b44-4fcb-9224-c4fced4e370a                                  None   \n",
      "1  e8bbf2d7-31d3-490e-b10c-c486bcd428fa  fd19496c-9b77-4a01-b716-94c4467a9fdb   \n",
      "2  fd19496c-9b77-4a01-b716-94c4467a9fdb                                  None   \n",
      "3  fd19496c-9b77-4a01-b716-94c4467a9fdb                                  None   \n",
      "4  fd19496c-9b77-4a01-b716-94c4467a9fdb                                  None   \n",
      "5  fd19496c-9b77-4a01-b716-94c4467a9fdb                                  None   \n",
      "\n",
      "      status   category  \n",
      "0  completed       None  \n",
      "1  completed       None  \n",
      "2  completed  transport  \n",
      "3  completed  transport  \n",
      "4  completed  transport  \n",
      "5  completed       food  \n"
     ]
    }
   ],
   "source": [
    "conn = sqlite3.connect(\"finance_tracker.db\")\n",
    "df = pd.read_sql_query(\"SELECT * FROM transactions\", conn)\n",
    "conn.close()\n",
    "\n",
    "# Print nicely formatted table\n",
    "print(df.to_string(index=False))"
   ]
  }
 ],
 "metadata": {
  "kernelspec": {
   "display_name": "venv",
   "language": "python",
   "name": "python3"
  },
  "language_info": {
   "codemirror_mode": {
    "name": "ipython",
    "version": 3
   },
   "file_extension": ".py",
   "mimetype": "text/x-python",
   "name": "python",
   "nbconvert_exporter": "python",
   "pygments_lexer": "ipython3",
   "version": "3.10.10"
  }
 },
 "nbformat": 4,
 "nbformat_minor": 2
}
